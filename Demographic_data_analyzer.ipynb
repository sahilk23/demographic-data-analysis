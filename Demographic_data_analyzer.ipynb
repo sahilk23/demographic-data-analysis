{
 "cells": [
  {
   "cell_type": "code",
   "execution_count": 22,
   "id": "cbc38323-7acb-4d4e-a6c7-43a07e6167c5",
   "metadata": {},
   "outputs": [],
   "source": [
    "import pandas as pd"
   ]
  },
  {
   "cell_type": "code",
   "execution_count": 23,
   "id": "216c12f4-9720-46e9-a52c-2310a37e85a0",
   "metadata": {},
   "outputs": [],
   "source": [
    "# Analyzing the race column"
   ]
  },
  {
   "cell_type": "code",
   "execution_count": 26,
   "id": "cfcf01a1-7b03-469e-9d8d-cf71b94383b9",
   "metadata": {},
   "outputs": [
    {
     "data": {
      "text/plain": [
       "32561"
      ]
     },
     "execution_count": 26,
     "metadata": {},
     "output_type": "execute_result"
    }
   ],
   "source": [
    "df = pd.read_csv('adult.data.csv')\n",
    "df['race'].count()"
   ]
  },
  {
   "cell_type": "code",
   "execution_count": 28,
   "id": "fb2d52af-1a88-4e8f-b35f-998aead771b7",
   "metadata": {},
   "outputs": [
    {
     "data": {
      "text/plain": [
       "array(['White', 'Black', 'Asian-Pac-Islander', 'Amer-Indian-Eskimo',\n",
       "       'Other'], dtype=object)"
      ]
     },
     "execution_count": 28,
     "metadata": {},
     "output_type": "execute_result"
    }
   ],
   "source": [
    "df['race'].unique()"
   ]
  },
  {
   "cell_type": "code",
   "execution_count": 30,
   "id": "a80c02d4-7415-424f-a6b6-341d9a7905f1",
   "metadata": {},
   "outputs": [
    {
     "name": "stdout",
     "output_type": "stream",
     "text": [
      "Number of white people:-  27816\n"
     ]
    }
   ],
   "source": [
    "wp = df['race'] == 'White'\n",
    "print('Number of white people:- ',wp.sum())"
   ]
  },
  {
   "cell_type": "code",
   "execution_count": 32,
   "id": "0e7fff27-f11e-468f-854c-2ee9eaa41c05",
   "metadata": {},
   "outputs": [
    {
     "name": "stdout",
     "output_type": "stream",
     "text": [
      "Number of black people:-  3124\n"
     ]
    }
   ],
   "source": [
    "bp = df['race'] == 'Black'\n",
    "print('Number of black people:- ',bp.sum())"
   ]
  },
  {
   "cell_type": "code",
   "execution_count": 33,
   "id": "fc7b5e69-70df-493e-9869-4e6f4f4ac894",
   "metadata": {},
   "outputs": [
    {
     "name": "stdout",
     "output_type": "stream",
     "text": [
      "Number of Asian-Pac-Islander people:-  1039\n"
     ]
    }
   ],
   "source": [
    "api = df['race'] == 'Asian-Pac-Islander'\n",
    "print('Number of Asian-Pac-Islander people:- ',api.sum())"
   ]
  },
  {
   "cell_type": "code",
   "execution_count": 36,
   "id": "582b664e-6705-46c9-9799-bc7e745cca9e",
   "metadata": {},
   "outputs": [
    {
     "name": "stdout",
     "output_type": "stream",
     "text": [
      "Number of Amer-Indian-Eskimo people:-  311\n"
     ]
    }
   ],
   "source": [
    "aie = df['race'] == 'Amer-Indian-Eskimo'\n",
    "print('Number of Amer-Indian-Eskimo people:- ',aie.sum())"
   ]
  },
  {
   "cell_type": "code",
   "execution_count": 38,
   "id": "9c464081-7b02-4b52-b240-73a225e5ed13",
   "metadata": {},
   "outputs": [
    {
     "name": "stdout",
     "output_type": "stream",
     "text": [
      "Number of other people:-  271\n"
     ]
    }
   ],
   "source": [
    "other = df['race'] == 'Other'\n",
    "print('Number of other people:- ',other.sum())"
   ]
  },
  {
   "cell_type": "code",
   "execution_count": 39,
   "id": "f4022120-363c-4447-82d6-223246696e5c",
   "metadata": {},
   "outputs": [],
   "source": [
    "# What is the average age of men?"
   ]
  },
  {
   "cell_type": "code",
   "execution_count": 42,
   "id": "8b7c0e8f-cfdc-491b-8647-cde5ecbfd453",
   "metadata": {},
   "outputs": [
    {
     "name": "stdout",
     "output_type": "stream",
     "text": [
      "The average age of men:-  39.43354749885268\n"
     ]
    }
   ],
   "source": [
    "avg_age = df.loc[df['sex'] =='Male', 'age']\n",
    "print(\"The average age of men:- \",avg_age.mean())"
   ]
  },
  {
   "cell_type": "code",
   "execution_count": 44,
   "id": "7226e466-f8f9-4cc5-b591-a8509d55749c",
   "metadata": {},
   "outputs": [
    {
     "data": {
      "text/plain": [
       "38.58164675532078"
      ]
     },
     "execution_count": 44,
     "metadata": {},
     "output_type": "execute_result"
    }
   ],
   "source": [
    "df['age'].mean()"
   ]
  },
  {
   "cell_type": "code",
   "execution_count": 45,
   "id": "e7e9f7af-edd1-4d85-b88d-91bfb56e3e77",
   "metadata": {},
   "outputs": [],
   "source": [
    "#What is the percentage of people who have a Bachelor's degree?"
   ]
  },
  {
   "cell_type": "code",
   "execution_count": 48,
   "id": "d0fbbad1-a458-46bc-921b-58fa34bf0be3",
   "metadata": {},
   "outputs": [
    {
     "data": {
      "text/plain": [
       "5355"
      ]
     },
     "execution_count": 48,
     "metadata": {},
     "output_type": "execute_result"
    }
   ],
   "source": [
    "bchl = df['education'] == 'Bachelors'\n",
    "bchl_total = bchl.sum()\n",
    "bchl_total"
   ]
  },
  {
   "cell_type": "code",
   "execution_count": 50,
   "id": "7f3439e3-8b61-4e3a-a02e-c934da69d11d",
   "metadata": {},
   "outputs": [],
   "source": [
    "lenght_edu = len(df['education'])"
   ]
  },
  {
   "cell_type": "code",
   "execution_count": 51,
   "id": "7ed7364c-6e64-48cb-a3f3-eef84eada7cb",
   "metadata": {},
   "outputs": [
    {
     "name": "stdout",
     "output_type": "stream",
     "text": [
      "The percentage of people who have a Bachelor's degree:-  16.446055096587944\n"
     ]
    }
   ],
   "source": [
    "print(\"The percentage of people who have a Bachelor's degree:- \",(bchl_total*100)/lenght_edu)"
   ]
  },
  {
   "cell_type": "code",
   "execution_count": 54,
   "id": "2a2f6e58-27ca-4524-894e-b173de5409c0",
   "metadata": {},
   "outputs": [],
   "source": [
    "# What percentage of people with advanced education (Bachelors, Masters, or Doctorate) make more than 50K?"
   ]
  },
  {
   "cell_type": "code",
   "execution_count": 56,
   "id": "67c73e8b-b060-4e87-955d-67fcf99e9a72",
   "metadata": {
    "tags": []
   },
   "outputs": [
    {
     "data": {
      "text/plain": [
       "array(['Bachelors', 'HS-grad', '11th', 'Masters', '9th', 'Some-college',\n",
       "       'Assoc-acdm', 'Assoc-voc', '7th-8th', 'Doctorate', 'Prof-school',\n",
       "       '5th-6th', '10th', '1st-4th', 'Preschool', '12th'], dtype=object)"
      ]
     },
     "execution_count": 56,
     "metadata": {},
     "output_type": "execute_result"
    }
   ],
   "source": [
    "df['education'].unique()"
   ]
  },
  {
   "cell_type": "code",
   "execution_count": 58,
   "id": "7bdb3df0-5322-45fa-af44-e4e624786797",
   "metadata": {},
   "outputs": [
    {
     "data": {
      "text/plain": [
       "array(['<=50K', '>50K'], dtype=object)"
      ]
     },
     "execution_count": 58,
     "metadata": {},
     "output_type": "execute_result"
    }
   ],
   "source": [
    "df['salary'].unique()"
   ]
  },
  {
   "cell_type": "code",
   "execution_count": 59,
   "id": "a9968cae-c812-4837-91b6-9aa6b4cfd7e7",
   "metadata": {
    "tags": []
   },
   "outputs": [
    {
     "data": {
      "text/html": [
       "<div>\n",
       "<style scoped>\n",
       "    .dataframe tbody tr th:only-of-type {\n",
       "        vertical-align: middle;\n",
       "    }\n",
       "\n",
       "    .dataframe tbody tr th {\n",
       "        vertical-align: top;\n",
       "    }\n",
       "\n",
       "    .dataframe thead th {\n",
       "        text-align: right;\n",
       "    }\n",
       "</style>\n",
       "<table border=\"1\" class=\"dataframe\">\n",
       "  <thead>\n",
       "    <tr style=\"text-align: right;\">\n",
       "      <th></th>\n",
       "      <th>education</th>\n",
       "      <th>salary</th>\n",
       "    </tr>\n",
       "  </thead>\n",
       "  <tbody>\n",
       "    <tr>\n",
       "      <th>0</th>\n",
       "      <td>Bachelors</td>\n",
       "      <td>&lt;=50K</td>\n",
       "    </tr>\n",
       "    <tr>\n",
       "      <th>1</th>\n",
       "      <td>Bachelors</td>\n",
       "      <td>&lt;=50K</td>\n",
       "    </tr>\n",
       "    <tr>\n",
       "      <th>2</th>\n",
       "      <td>HS-grad</td>\n",
       "      <td>&lt;=50K</td>\n",
       "    </tr>\n",
       "    <tr>\n",
       "      <th>3</th>\n",
       "      <td>11th</td>\n",
       "      <td>&lt;=50K</td>\n",
       "    </tr>\n",
       "    <tr>\n",
       "      <th>4</th>\n",
       "      <td>Bachelors</td>\n",
       "      <td>&lt;=50K</td>\n",
       "    </tr>\n",
       "    <tr>\n",
       "      <th>5</th>\n",
       "      <td>Masters</td>\n",
       "      <td>&lt;=50K</td>\n",
       "    </tr>\n",
       "    <tr>\n",
       "      <th>6</th>\n",
       "      <td>9th</td>\n",
       "      <td>&lt;=50K</td>\n",
       "    </tr>\n",
       "    <tr>\n",
       "      <th>7</th>\n",
       "      <td>HS-grad</td>\n",
       "      <td>&gt;50K</td>\n",
       "    </tr>\n",
       "    <tr>\n",
       "      <th>8</th>\n",
       "      <td>Masters</td>\n",
       "      <td>&gt;50K</td>\n",
       "    </tr>\n",
       "    <tr>\n",
       "      <th>9</th>\n",
       "      <td>Bachelors</td>\n",
       "      <td>&gt;50K</td>\n",
       "    </tr>\n",
       "  </tbody>\n",
       "</table>\n",
       "</div>"
      ],
      "text/plain": [
       "   education salary\n",
       "0  Bachelors  <=50K\n",
       "1  Bachelors  <=50K\n",
       "2    HS-grad  <=50K\n",
       "3       11th  <=50K\n",
       "4  Bachelors  <=50K\n",
       "5    Masters  <=50K\n",
       "6        9th  <=50K\n",
       "7    HS-grad   >50K\n",
       "8    Masters   >50K\n",
       "9  Bachelors   >50K"
      ]
     },
     "execution_count": 59,
     "metadata": {},
     "output_type": "execute_result"
    }
   ],
   "source": [
    "df[['education','salary']].head(10)"
   ]
  },
  {
   "cell_type": "code",
   "execution_count": 60,
   "id": "240c6f87-5f77-4b6c-9679-7df88e0b60d4",
   "metadata": {},
   "outputs": [],
   "source": [
    "filtr = df.loc[(df['education'] == 'Bachelors')|(df['education'] =='Masters')|(df['education'] =='Doctorate') , 'salary'  ] == '>50K'"
   ]
  },
  {
   "cell_type": "code",
   "execution_count": 63,
   "id": "e35a7bc3-b12b-425a-a7c9-47464beda198",
   "metadata": {},
   "outputs": [
    {
     "name": "stdout",
     "output_type": "stream",
     "text": [
      "Number of people with advanced education (Bachelors, Masters, or Doctorate) making more than 50K :- 3486\n"
     ]
    }
   ],
   "source": [
    "adv = (f\"Number of people with advanced education (Bachelors, Masters, or Doctorate) making more than 50K :- {filtr.sum()}\")\n",
    "print(adv)"
   ]
  },
  {
   "cell_type": "code",
   "execution_count": 66,
   "id": "eb689cc0-27c4-4fa8-96a6-b0b24e329365",
   "metadata": {},
   "outputs": [
    {
     "data": {
      "text/plain": [
       "32561"
      ]
     },
     "execution_count": 66,
     "metadata": {},
     "output_type": "execute_result"
    }
   ],
   "source": [
    "total_edu = len(df['education'])\n",
    "total_edu"
   ]
  },
  {
   "cell_type": "code",
   "execution_count": 68,
   "id": "7e13699a-8ed7-493d-b488-f01e138e982a",
   "metadata": {},
   "outputs": [
    {
     "name": "stdout",
     "output_type": "stream",
     "text": [
      "Percentage of people with advanced education (Bachelors, Masters or Doctorate) make more than 50K :- 10.70605939621019\n"
     ]
    }
   ],
   "source": [
    "print(f\"Percentage of people with advanced education (Bachelors, Masters or Doctorate) make more than 50K :- {((filtr.sum())*100)/total_edu}\")"
   ]
  },
  {
   "cell_type": "code",
   "execution_count": 69,
   "id": "030405e6-f2bf-48e2-9ab7-7878d66a5d1f",
   "metadata": {},
   "outputs": [],
   "source": [
    "# What percentage of people without advanced education make more than 50K ?"
   ]
  },
  {
   "cell_type": "code",
   "execution_count": 72,
   "id": "c4c0df7f-4496-4f3f-aeec-3652d8206138",
   "metadata": {},
   "outputs": [
    {
     "data": {
      "text/plain": [
       "32561"
      ]
     },
     "execution_count": 72,
     "metadata": {},
     "output_type": "execute_result"
    }
   ],
   "source": [
    "len(df['education'])"
   ]
  },
  {
   "cell_type": "code",
   "execution_count": 74,
   "id": "0d3b042c-9887-4c4d-b48e-1d410565b01c",
   "metadata": {},
   "outputs": [
    {
     "name": "stdout",
     "output_type": "stream",
     "text": [
      "Number of people making more than 50K :-  7841\n"
     ]
    }
   ],
   "source": [
    "grt_50k = df.loc[df['salary'] == '>50K' , 'education']\n",
    "print(\"Number of people making more than 50K :- \",len(grt_50k))"
   ]
  },
  {
   "cell_type": "code",
   "execution_count": 76,
   "id": "08d53a2e-af02-4113-9bc2-e7c2d02ef397",
   "metadata": {},
   "outputs": [
    {
     "name": "stdout",
     "output_type": "stream",
     "text": [
      "People without advanced education making more than 50K :-  4355\n"
     ]
    }
   ],
   "source": [
    "#w_adv = int(grt_50k) - int(adv)\n",
    "print(\"People without advanced education making more than 50K :- \",(7841-3486))"
   ]
  },
  {
   "cell_type": "code",
   "execution_count": 78,
   "id": "1830d151-b046-4955-8172-4dc2301eca9c",
   "metadata": {},
   "outputs": [],
   "source": [
    "# What is the minimum number of hours a person works per week?"
   ]
  },
  {
   "cell_type": "code",
   "execution_count": 80,
   "id": "9c87ff6d-ff50-47fe-8fc2-22ca7296456d",
   "metadata": {},
   "outputs": [
    {
     "data": {
      "text/plain": [
       "array([40, 13, 16, 45, 50, 80, 30, 35, 60, 20, 52, 44, 15, 25, 38, 43, 55,\n",
       "       48, 58, 32, 70,  2, 22, 56, 41, 28, 36, 24, 46, 42, 12, 65,  1, 10,\n",
       "       34, 75, 98, 33, 54,  8,  6, 64, 19, 18, 72,  5,  9, 47, 37, 21, 26,\n",
       "       14,  4, 59,  7, 99, 53, 39, 62, 57, 78, 90, 66, 11, 49, 84,  3, 17,\n",
       "       68, 27, 85, 31, 51, 77, 63, 23, 87, 88, 73, 89, 97, 94, 29, 96, 67,\n",
       "       82, 86, 91, 81, 76, 92, 61, 74, 95])"
      ]
     },
     "execution_count": 80,
     "metadata": {},
     "output_type": "execute_result"
    }
   ],
   "source": [
    "df['hours-per-week'].unique()"
   ]
  },
  {
   "cell_type": "code",
   "execution_count": 82,
   "id": "4e5da5f8-59c2-4f3f-a04d-02d4d9f04190",
   "metadata": {},
   "outputs": [
    {
     "name": "stdout",
     "output_type": "stream",
     "text": [
      "Minimum number of hours a person works is 1\n",
      "Maximum number of hours a person works is 99\n"
     ]
    }
   ],
   "source": [
    "min_hr = df['hours-per-week']\n",
    "print(f\"Minimum number of hours a person works is {min_hr.min()}\")\n",
    "print(f\"Maximum number of hours a person works is {min_hr.max()}\")"
   ]
  },
  {
   "cell_type": "code",
   "execution_count": 84,
   "id": "0fde2279-537d-4c25-9f10-cbc421a1551b",
   "metadata": {},
   "outputs": [],
   "source": [
    "# What percentage of the people who work the minimum number of hours per week have a salary of more than 50K?"
   ]
  },
  {
   "cell_type": "code",
   "execution_count": 86,
   "id": "7e99ad5a-9eba-4b30-9f0d-929ecbc7d628",
   "metadata": {},
   "outputs": [],
   "source": [
    "hr_50k = df.loc[df['hours-per-week']== min_hr.min() , 'salary'] == '>50K'"
   ]
  },
  {
   "cell_type": "code",
   "execution_count": 87,
   "id": "ca58f9e7-bb96-41d2-821f-2c77347055d3",
   "metadata": {},
   "outputs": [],
   "source": [
    "hr_len = len(df['hours-per-week']) "
   ]
  },
  {
   "cell_type": "code",
   "execution_count": 89,
   "id": "517757c0-8951-47c3-a1c1-e6b4b05517bd",
   "metadata": {},
   "outputs": [],
   "source": [
    "perc = ((hr_50k.sum())*100) / hr_len"
   ]
  },
  {
   "cell_type": "code",
   "execution_count": 92,
   "id": "02062a7e-96eb-44e1-a27c-a27bba72cc3b",
   "metadata": {},
   "outputs": [
    {
     "name": "stdout",
     "output_type": "stream",
     "text": [
      "Percentage of people who work the mininmum number of hour per week and have a salary of more than 50k is 0.006 %\n"
     ]
    }
   ],
   "source": [
    "print(f\"Percentage of people who work the mininmum number of hour per week and have a salary of more than 50k is {perc.round(3)} %\")"
   ]
  },
  {
   "cell_type": "code",
   "execution_count": 94,
   "id": "1455ed6c-f80f-46bc-87c0-e52428c0d480",
   "metadata": {},
   "outputs": [],
   "source": [
    "# What country has the highest percentage of people that earn >50K and what is that percentage?"
   ]
  },
  {
   "cell_type": "code",
   "execution_count": 96,
   "id": "eb1ef1b0-4919-41c3-8f77-a98e13b4850a",
   "metadata": {
    "tags": []
   },
   "outputs": [
    {
     "data": {
      "text/plain": [
       "array(['United-States', 'Cuba', 'Jamaica', 'India', '?', 'Mexico',\n",
       "       'South', 'Puerto-Rico', 'Honduras', 'England', 'Canada', 'Germany',\n",
       "       'Iran', 'Philippines', 'Italy', 'Poland', 'Columbia', 'Cambodia',\n",
       "       'Thailand', 'Ecuador', 'Laos', 'Taiwan', 'Haiti', 'Portugal',\n",
       "       'Dominican-Republic', 'El-Salvador', 'France', 'Guatemala',\n",
       "       'China', 'Japan', 'Yugoslavia', 'Peru',\n",
       "       'Outlying-US(Guam-USVI-etc)', 'Scotland', 'Trinadad&Tobago',\n",
       "       'Greece', 'Nicaragua', 'Vietnam', 'Hong', 'Ireland', 'Hungary',\n",
       "       'Holand-Netherlands'], dtype=object)"
      ]
     },
     "execution_count": 96,
     "metadata": {},
     "output_type": "execute_result"
    }
   ],
   "source": [
    "df['native-country'].unique()"
   ]
  },
  {
   "cell_type": "code",
   "execution_count": 98,
   "id": "f5c5c466-2e9c-436a-b63c-e64983379e66",
   "metadata": {
    "tags": []
   },
   "outputs": [
    {
     "data": {
      "text/plain": [
       "United-States                 29170\n",
       "Mexico                          643\n",
       "?                               583\n",
       "Philippines                     198\n",
       "Germany                         137\n",
       "Canada                          121\n",
       "Puerto-Rico                     114\n",
       "El-Salvador                     106\n",
       "India                           100\n",
       "Cuba                             95\n",
       "England                          90\n",
       "Jamaica                          81\n",
       "South                            80\n",
       "China                            75\n",
       "Italy                            73\n",
       "Dominican-Republic               70\n",
       "Vietnam                          67\n",
       "Guatemala                        64\n",
       "Japan                            62\n",
       "Poland                           60\n",
       "Columbia                         59\n",
       "Taiwan                           51\n",
       "Haiti                            44\n",
       "Iran                             43\n",
       "Portugal                         37\n",
       "Nicaragua                        34\n",
       "Peru                             31\n",
       "France                           29\n",
       "Greece                           29\n",
       "Ecuador                          28\n",
       "Ireland                          24\n",
       "Hong                             20\n",
       "Cambodia                         19\n",
       "Trinadad&Tobago                  19\n",
       "Laos                             18\n",
       "Thailand                         18\n",
       "Yugoslavia                       16\n",
       "Outlying-US(Guam-USVI-etc)       14\n",
       "Honduras                         13\n",
       "Hungary                          13\n",
       "Scotland                         12\n",
       "Holand-Netherlands                1\n",
       "Name: native-country, dtype: int64"
      ]
     },
     "execution_count": 98,
     "metadata": {},
     "output_type": "execute_result"
    }
   ],
   "source": [
    "df['native-country'].value_counts()"
   ]
  },
  {
   "cell_type": "code",
   "execution_count": 100,
   "id": "1429cd0c-fa7d-49f5-9649-dd8de1b91ee1",
   "metadata": {
    "tags": []
   },
   "outputs": [
    {
     "data": {
      "text/plain": [
       "United-States         7171\n",
       "?                      146\n",
       "Philippines             61\n",
       "Germany                 44\n",
       "India                   40\n",
       "Canada                  39\n",
       "Mexico                  33\n",
       "England                 30\n",
       "Italy                   25\n",
       "Cuba                    25\n",
       "Japan                   24\n",
       "Taiwan                  20\n",
       "China                   20\n",
       "Iran                    18\n",
       "South                   16\n",
       "Puerto-Rico             12\n",
       "Poland                  12\n",
       "France                  12\n",
       "Jamaica                 10\n",
       "El-Salvador              9\n",
       "Greece                   8\n",
       "Cambodia                 7\n",
       "Hong                     6\n",
       "Yugoslavia               6\n",
       "Ireland                  5\n",
       "Vietnam                  5\n",
       "Portugal                 4\n",
       "Haiti                    4\n",
       "Ecuador                  4\n",
       "Thailand                 3\n",
       "Hungary                  3\n",
       "Guatemala                3\n",
       "Scotland                 3\n",
       "Nicaragua                2\n",
       "Trinadad&Tobago          2\n",
       "Laos                     2\n",
       "Columbia                 2\n",
       "Dominican-Republic       2\n",
       "Peru                     2\n",
       "Honduras                 1\n",
       "Name: native-country, dtype: int64"
      ]
     },
     "execution_count": 100,
     "metadata": {},
     "output_type": "execute_result"
    }
   ],
   "source": [
    "country_50k = df.loc[df['salary'] == '>50K' , 'native-country']\n",
    "max_count = country_50k.value_counts()\n",
    "max_count"
   ]
  },
  {
   "cell_type": "code",
   "execution_count": 102,
   "id": "3e46103f-512e-44eb-93cd-5be5483610d7",
   "metadata": {},
   "outputs": [
    {
     "data": {
      "text/plain": [
       "'United-States'"
      ]
     },
     "execution_count": 102,
     "metadata": {},
     "output_type": "execute_result"
    }
   ],
   "source": [
    "max_count.index.tolist()[0]"
   ]
  },
  {
   "cell_type": "code",
   "execution_count": 104,
   "id": "f59be729-8a48-4a5a-8a7a-f44fa5b20227",
   "metadata": {},
   "outputs": [
    {
     "name": "stdout",
     "output_type": "stream",
     "text": [
      "Country that has maximum number of people with salary more than 50k is United-States with 7171 people\n"
     ]
    }
   ],
   "source": [
    "print(f\"Country that has maximum number of people with salary more than 50k is {max_count.index[0]} with {max_count.max()} people\")"
   ]
  },
  {
   "cell_type": "code",
   "execution_count": 106,
   "id": "f4c1ac3e-5939-45b6-8bf5-ec75206d133c",
   "metadata": {},
   "outputs": [
    {
     "name": "stdout",
     "output_type": "stream",
     "text": [
      "Country that has maximum number of people with salary more than 50k is United-States with 7171 people\n"
     ]
    }
   ],
   "source": [
    "print(f\"Country that has maximum number of people with salary more than 50k is {max_count.index[0]} with {max_count.tolist()[0]} people\")"
   ]
  },
  {
   "cell_type": "code",
   "execution_count": 108,
   "id": "3b3a9c23-32ff-4e96-8806-48d861389ac1",
   "metadata": {},
   "outputs": [
    {
     "data": {
      "text/plain": [
       "7841"
      ]
     },
     "execution_count": 108,
     "metadata": {},
     "output_type": "execute_result"
    }
   ],
   "source": [
    "len(country_50k)"
   ]
  },
  {
   "cell_type": "code",
   "execution_count": 109,
   "id": "ed4a1463-f585-4d92-939b-9327352a46c2",
   "metadata": {},
   "outputs": [
    {
     "name": "stdout",
     "output_type": "stream",
     "text": [
      "Country that has the highest percentage of people that earn >50K is United-States and percentage is 91.45517153424308 (for only >50K salary) and 22.023279383311323 (for both >50k and <=50K)\n"
     ]
    }
   ],
   "source": [
    "print(f\"Country that has the highest percentage of people that earn >50K is {max_count.index[0]} and percentage is {(max_count.max()*100)/len(country_50k)} (for only >50K salary) and {(max_count.max()*100)/len(df['native-country'])} (for both >50k and <=50K)\")"
   ]
  },
  {
   "cell_type": "code",
   "execution_count": 112,
   "id": "e91b9b7e-5988-4e68-86ef-f7f66473e886",
   "metadata": {},
   "outputs": [],
   "source": [
    "# Identify the most popular occupation for those who earn >50K in India."
   ]
  },
  {
   "cell_type": "code",
   "execution_count": 114,
   "id": "e1f3a1cc-2d35-49bf-a7e8-11580505009d",
   "metadata": {},
   "outputs": [
    {
     "data": {
      "text/plain": [
       "Index(['age', 'workclass', 'fnlwgt', 'education', 'education-num',\n",
       "       'marital-status', 'occupation', 'relationship', 'race', 'sex',\n",
       "       'capital-gain', 'capital-loss', 'hours-per-week', 'native-country',\n",
       "       'salary'],\n",
       "      dtype='object')"
      ]
     },
     "execution_count": 114,
     "metadata": {},
     "output_type": "execute_result"
    }
   ],
   "source": [
    "df.columns"
   ]
  },
  {
   "cell_type": "code",
   "execution_count": 116,
   "id": "c5742b8f-0080-4d33-b0eb-d93f52e4e7fa",
   "metadata": {
    "tags": []
   },
   "outputs": [
    {
     "data": {
      "text/plain": [
       "0             Adm-clerical\n",
       "1          Exec-managerial\n",
       "2        Handlers-cleaners\n",
       "3        Handlers-cleaners\n",
       "4           Prof-specialty\n",
       "               ...        \n",
       "32556         Tech-support\n",
       "32557    Machine-op-inspct\n",
       "32558         Adm-clerical\n",
       "32559         Adm-clerical\n",
       "32560      Exec-managerial\n",
       "Name: occupation, Length: 32561, dtype: object"
      ]
     },
     "execution_count": 116,
     "metadata": {},
     "output_type": "execute_result"
    }
   ],
   "source": [
    "df['occupation']"
   ]
  },
  {
   "cell_type": "code",
   "execution_count": 118,
   "id": "370ae877-176e-4131-9ae0-2d752d75550f",
   "metadata": {
    "tags": []
   },
   "outputs": [
    {
     "data": {
      "text/plain": [
       "11         Prof-specialty\n",
       "968       Exec-managerial\n",
       "1327        Other-service\n",
       "7258       Prof-specialty\n",
       "7285       Prof-specialty\n",
       "8124       Prof-specialty\n",
       "9939       Prof-specialty\n",
       "10590      Prof-specialty\n",
       "10661      Prof-specialty\n",
       "10736      Prof-specialty\n",
       "11260      Prof-specialty\n",
       "11384        Tech-support\n",
       "13422     Exec-managerial\n",
       "13551     Exec-managerial\n",
       "13862     Exec-managerial\n",
       "16017     Exec-managerial\n",
       "16778     Exec-managerial\n",
       "16923       Other-service\n",
       "17259      Prof-specialty\n",
       "17834    Transport-moving\n",
       "20417     Exec-managerial\n",
       "20465      Prof-specialty\n",
       "21128      Prof-specialty\n",
       "23474      Prof-specialty\n",
       "24154               Sales\n",
       "25739      Prof-specialty\n",
       "26305        Tech-support\n",
       "26356     Exec-managerial\n",
       "27670      Prof-specialty\n",
       "28264      Prof-specialty\n",
       "28433      Prof-specialty\n",
       "28452      Prof-specialty\n",
       "28557      Prof-specialty\n",
       "28651      Prof-specialty\n",
       "28798      Prof-specialty\n",
       "30111      Prof-specialty\n",
       "30152      Prof-specialty\n",
       "30833        Adm-clerical\n",
       "31327      Prof-specialty\n",
       "31357      Prof-specialty\n",
       "Name: occupation, dtype: object"
      ]
     },
     "execution_count": 118,
     "metadata": {},
     "output_type": "execute_result"
    }
   ],
   "source": [
    "occ_filtr = df.loc[(df['native-country'] == 'India') & (df['salary'] == '>50K') , 'occupation']\n",
    "occ_filtr"
   ]
  },
  {
   "cell_type": "code",
   "execution_count": 119,
   "id": "ae78d0ce-5689-4ecb-9995-118caf27298b",
   "metadata": {},
   "outputs": [
    {
     "data": {
      "text/plain": [
       "array(['Prof-specialty', 'Exec-managerial', 'Other-service',\n",
       "       'Tech-support', 'Transport-moving', 'Sales', 'Adm-clerical'],\n",
       "      dtype=object)"
      ]
     },
     "execution_count": 119,
     "metadata": {},
     "output_type": "execute_result"
    }
   ],
   "source": [
    "occ_filtr.unique()"
   ]
  },
  {
   "cell_type": "code",
   "execution_count": 120,
   "id": "d51689e8-2685-42c2-abf1-9e5003be672c",
   "metadata": {},
   "outputs": [
    {
     "data": {
      "text/plain": [
       "Prof-specialty      25\n",
       "Exec-managerial      8\n",
       "Other-service        2\n",
       "Tech-support         2\n",
       "Transport-moving     1\n",
       "Sales                1\n",
       "Adm-clerical         1\n",
       "Name: occupation, dtype: int64"
      ]
     },
     "execution_count": 120,
     "metadata": {},
     "output_type": "execute_result"
    }
   ],
   "source": [
    "popu_occ = occ_filtr.value_counts()\n",
    "popu_occ"
   ]
  },
  {
   "cell_type": "code",
   "execution_count": 124,
   "id": "e7d5c45c-1ab4-4c94-841a-66eaab8bce3c",
   "metadata": {},
   "outputs": [
    {
     "name": "stdout",
     "output_type": "stream",
     "text": [
      "The most popular occupation in India in which people are making more than 50K is Prof-specialty\n"
     ]
    }
   ],
   "source": [
    "print(\"The most popular occupation in India in which people are making more than 50K is\",popu_occ.index[0])"
   ]
  },
  {
   "cell_type": "code",
   "execution_count": 148,
   "id": "956b57fc-e1fa-4de6-b9a6-19527ad5c482",
   "metadata": {},
   "outputs": [
    {
     "name": "stdout",
     "output_type": "stream",
     "text": [
      "1)Number of white people:-  27816\n",
      "Number of black people:-  3124\n",
      "Number of Asian-Pac-Islander people:-  1039\n",
      "Number of Amer-Indian-Eskimo people:-  311\n",
      "Number of other people:-  271\n",
      "----------------------------------------------------------------------------------------------------\n",
      "2)The average age of men:-  39.43354749885268\n",
      "----------------------------------------------------------------------------------------------------\n",
      "3)The percentage of people who have a Bachelor's degree:-  16.446\n",
      "----------------------------------------------------------------------------------------------------\n",
      "4)Percentage of people with advanced education (Bachelors, Masters or Doctorate) make more than 50K :- 10.706\n",
      "----------------------------------------------------------------------------------------------------\n",
      "5)People without advanced education making more than 50K :-  4355\n",
      "----------------------------------------------------------------------------------------------------\n",
      "6)Minimum number of hours a person works is 1\n",
      "Maximum number of hours a person works is 99\n",
      "----------------------------------------------------------------------------------------------------\n",
      "7)Percentage of people who work the mininmum number of hour per week and have a salary of more than 50k is 0.006 %\n",
      "----------------------------------------------------------------------------------------------------\n",
      "8)Country that has the highest percentage of people that earn >50K is United-States and percentage is 91.45517153424308 (for only >50K salary) and 22.023279383311323 (for both >50k and <=50K)\n",
      "----------------------------------------------------------------------------------------------------\n",
      "9)The most popular occupation in India in which people are making more than 50K is Prof-specialty\n",
      "----------------------------------------------------------------------------------------------------\n"
     ]
    }
   ],
   "source": [
    "# Analyzing the race column\n",
    "print('1)Number of white people:- ',wp.sum())\n",
    "print('Number of black people:- ',bp.sum())\n",
    "print('Number of Asian-Pac-Islander people:- ',api.sum())\n",
    "print('Number of Amer-Indian-Eskimo people:- ',aie.sum())\n",
    "print('Number of other people:- ',other.sum())\n",
    "\n",
    "print(\"-\"*100)\n",
    "\n",
    "# What is the average age of men\n",
    "print(\"2)The average age of men:- \",avg_age.mean())\n",
    "\n",
    "print(\"-\"*100)\n",
    "\n",
    "# What is the percentage of people who have a Bachelor's degree?\n",
    "print(\"3)The percentage of people who have a Bachelor's degree:- \",((bchl_total*100)/lenght_edu).round(3))\n",
    "\n",
    "print(\"-\"*100)\n",
    "\n",
    "# What percentage of people with advanced education (Bachelors, Masters, or Doctorate) make more than 50K?\n",
    "print(f\"4)Percentage of people with advanced education (Bachelors, Masters or Doctorate) make more than 50K :- {(((filtr.sum())*100)/total_edu).round(3)}\")\n",
    "\n",
    "print(\"-\"*100)\n",
    "\n",
    "# What percentage of people without advanced education make more than 50K ?\n",
    "print(\"5)People without advanced education making more than 50K :- \",(7841-3486))\n",
    "\n",
    "print(\"-\"*100)\n",
    "\n",
    "# What is the minimum and maximum number of hours a person works per week?\n",
    "print(f\"6)Minimum number of hours a person works is {min_hr.min()}\")\n",
    "print(f\"Maximum number of hours a person works is {min_hr.max()}\")\n",
    "\n",
    "print(\"-\"*100)\n",
    "\n",
    "# What percentage of the people who work the minimum number of hours per week have a salary of more than 50K?\n",
    "print(f\"7)Percentage of people who work the mininmum number of hour per week and have a salary of more than 50k is {perc.round(3)} %\")\n",
    "\n",
    "print(\"-\"*100)\n",
    "\n",
    "# What country has the highest percentage of people that earn >50K and what is that percentage?\n",
    "print(f\"8)Country that has the highest percentage of people that earn >50K is {max_count.index[0]} and percentage is {(max_count.max()*100)/len(country_50k)} (for only >50K salary) and {((max_count.max()*100)/len(df['native-country']))} (for both >50k and <=50K)\")\n",
    "\n",
    "print(\"-\"*100)\n",
    "\n",
    "# Identify the most popular occupation for those who earn >50K in India.\n",
    "print(\"9)The most popular occupation in India in which people are making more than 50K is\",popu_occ.index[0])\n",
    "\n",
    "print(\"-\"*100)\n"
   ]
  },
  {
   "cell_type": "code",
   "execution_count": null,
   "id": "7d0f2eb3-df5d-4653-8130-a8fb94f6a412",
   "metadata": {},
   "outputs": [],
   "source": []
  }
 ],
 "metadata": {
  "kernelspec": {
   "display_name": "anaconda-panel-2023.05-py310",
   "language": "python",
   "name": "conda-env-anaconda-panel-2023.05-py310-py"
  },
  "language_info": {
   "codemirror_mode": {
    "name": "ipython",
    "version": 3
   },
   "file_extension": ".py",
   "mimetype": "text/x-python",
   "name": "python",
   "nbconvert_exporter": "python",
   "pygments_lexer": "ipython3",
   "version": "3.11.4"
  }
 },
 "nbformat": 4,
 "nbformat_minor": 5
}
